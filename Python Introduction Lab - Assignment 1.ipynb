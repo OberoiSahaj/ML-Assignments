{
 "cells": [
  {
   "cell_type": "markdown",
   "metadata": {},
   "source": [
    "### 1.Create a program that asks the user to enter their name and their age. Print out a message addressed to them that tells them the year that they will turn 100 years old."
   ]
  },
  {
   "cell_type": "code",
   "execution_count": 3,
   "metadata": {},
   "outputs": [
    {
     "name": "stdout",
     "output_type": "stream",
     "text": [
      "Enter your name: Sahaj\n",
      "Enter your age: 22\n",
      "Hi Sahaj, you will turn 100 years old in the year 2043.\n"
     ]
    }
   ],
   "source": [
    "name = input(\"Enter your name: \")\n",
    "age = int( input(\"Enter your age: \") )\n",
    "\n",
    "bday100 =  2021 + age\n",
    "\n",
    "print(f\"Hi {name}, you will turn 100 years old in the year {bday100}.\")"
   ]
  },
  {
   "cell_type": "markdown",
   "metadata": {},
   "source": [
    "#### Extras:\n",
    "#### 1. Add on to the previous program by asking the user for another number and printing out that many copies of the previous message.\n",
    "#### 2. Print out that many copies of the previous message on separate lines. (Hint: the string \"\\n is the same as pressing the ENTER button) "
   ]
  },
  {
   "cell_type": "code",
   "execution_count": 38,
   "metadata": {},
   "outputs": [
    {
     "name": "stdout",
     "output_type": "stream",
     "text": [
      "How many times do you want the output to be displayed? 5\n",
      "Enter your name: Sahaj\n",
      "Enter your age: 22\n",
      "Hi Sahaj, you will turn 100 years old in the year 2043.\n",
      "Hi Sahaj, you will turn 100 years old in the year 2043.\n",
      "Hi Sahaj, you will turn 100 years old in the year 2043.\n",
      "Hi Sahaj, you will turn 100 years old in the year 2043.\n",
      "Hi Sahaj, you will turn 100 years old in the year 2043.\n"
     ]
    }
   ],
   "source": [
    "#EXTRA 1\n",
    "n = int(input(\"How many times do you want the output to be displayed? \"))\n",
    "\n",
    "name = input(\"Enter your name: \")\n",
    "age = int( input(\"Enter your age: \") )\n",
    "bday100 =  2021 + age\n",
    "\n",
    "for i in range(n):\n",
    "    print(f\"Hi {name}, you will turn 100 years old in the year {bday100}.\")"
   ]
  },
  {
   "cell_type": "code",
   "execution_count": 39,
   "metadata": {},
   "outputs": [
    {
     "name": "stdout",
     "output_type": "stream",
     "text": [
      "How many times do you want the output to be displayed? 3\n",
      "Enter your name: Sahaj\n",
      "Enter your age: 22\n",
      "Hi Sahaj, you will turn 100 years old in the year 2043.\n",
      "\n",
      "Hi Sahaj, you will turn 100 years old in the year 2043.\n",
      "\n",
      "Hi Sahaj, you will turn 100 years old in the year 2043.\n",
      "\n"
     ]
    }
   ],
   "source": [
    "#EXTRA 2\n",
    "n = int(input(\"How many times do you want the output to be displayed? \"))\n",
    "\n",
    "name = input(\"Enter your name: \")\n",
    "age = int( input(\"Enter your age: \") )\n",
    "bday100 =  2021 + age\n",
    "\n",
    "for i in range(n):\n",
    "    print(f\"Hi {name}, you will turn 100 years old in the year {bday100}.\" + \"\\n\")"
   ]
  },
  {
   "cell_type": "markdown",
   "metadata": {},
   "source": [
    "### 2.Q2. Take a list, say for example this one: \n",
    "### a = [1, 1, 2, 3, 5, 8, 13, 21, 34, 55, 89]\n",
    "### and write a program that prints out all the elements of the list that are less than 5."
   ]
  },
  {
   "cell_type": "code",
   "execution_count": 4,
   "metadata": {},
   "outputs": [
    {
     "name": "stdout",
     "output_type": "stream",
     "text": [
      "1\n",
      "1\n",
      "2\n",
      "3\n"
     ]
    }
   ],
   "source": [
    "a = [1, 1, 2, 3, 5, 8, 13, 21, 34, 55, 89]\n",
    "\n",
    "for i in a:\n",
    "    if i < 5:\n",
    "        print(i)"
   ]
  },
  {
   "cell_type": "markdown",
   "metadata": {},
   "source": [
    "#### Extras:\n",
    "####  1. Instead of printing the elements one by one, make a new list that has all the elements less than 5 from this list in it and print out this new list.\n",
    "#### 2. Write this in one line of Python.\n",
    "#### 3. Ask the user for a number and return a list that contains only elements from the original list a that are smaller than that number given by the user."
   ]
  },
  {
   "cell_type": "code",
   "execution_count": 25,
   "metadata": {},
   "outputs": [
    {
     "name": "stdout",
     "output_type": "stream",
     "text": [
      "[1, 1, 2, 3]\n"
     ]
    }
   ],
   "source": [
    "# EXTRA 1\n",
    "a = [1, 1, 2, 3, 5, 8, 13, 21, 34, 55, 89]\n",
    "new = []\n",
    "for i in a:\n",
    "    if i < 5:\n",
    "        new.append(i)\n",
    "print(new)"
   ]
  },
  {
   "cell_type": "code",
   "execution_count": 28,
   "metadata": {},
   "outputs": [],
   "source": [
    "#EXTRA 2\n",
    "new = [x for x in a if x < 5] # One liner "
   ]
  },
  {
   "cell_type": "code",
   "execution_count": 33,
   "metadata": {},
   "outputs": [
    {
     "name": "stdout",
     "output_type": "stream",
     "text": [
      "Enter number: 13\n",
      "[1, 1, 2, 3, 5, 8]\n"
     ]
    }
   ],
   "source": [
    "# EXTRA 3\n",
    "a = [1, 1, 2, 3, 5, 8, 13, 21, 34, 55, 89]\n",
    "n = int(input(\"Enter number: \"))\n",
    "new = []\n",
    "for i in a:\n",
    "    if i < n:\n",
    "        new.append(i)\n",
    "print(new)"
   ]
  },
  {
   "cell_type": "markdown",
   "metadata": {},
   "source": [
    "### 3. Write a program that asks the user how many Fibonacci numbers to generate and then generates them. Take this opportunity to think about how you can use functions. Make sure to ask the user to enter the number of numbers in the sequence to generate.(Hint: The Fibonacci seqence is a sequence of numbers where the next number in the sequence is the sum of the previous two numbers in the sequence. The sequence looks like this: 1, 1, 2, 3, 5, 8, 13, ...)"
   ]
  },
  {
   "cell_type": "code",
   "execution_count": 34,
   "metadata": {},
   "outputs": [
    {
     "name": "stdout",
     "output_type": "stream",
     "text": [
      "Fibonacci sequence:\n",
      "0\n",
      "1\n",
      "1\n",
      "2\n",
      "3\n",
      "5\n",
      "8\n",
      "13\n",
      "21\n",
      "34\n"
     ]
    }
   ],
   "source": [
    "def fibonacci(n):\n",
    "   if n <= 1:\n",
    "       return n\n",
    "   else:\n",
    "       return(fibonacci(n-1) + fibonacci(n-2))\n",
    "\n",
    "n = 10\n",
    "\n",
    "print(\"Fibonacci sequence:\")\n",
    "for i in range(n):\n",
    "   print(fibonacci(i))"
   ]
  },
  {
   "cell_type": "markdown",
   "metadata": {},
   "source": [
    "### 4. Write a program (function!) that takes a list and returns a new list that contains all the elements of the first list minus all the duplicates."
   ]
  },
  {
   "cell_type": "code",
   "execution_count": 6,
   "metadata": {},
   "outputs": [
    {
     "name": "stdout",
     "output_type": "stream",
     "text": [
      "[1, 2, 3, 4, 5]\n"
     ]
    }
   ],
   "source": [
    "def no_duplicates(li):\n",
    "    new = []\n",
    "    \n",
    "    for i in li:\n",
    "        if i not in new:\n",
    "            new.append(i)\n",
    "    return new\n",
    "\n",
    "a = no_duplicates( [1,1,2,3, 4, 4, 5, 5,5] )\n",
    "print(a)"
   ]
  },
  {
   "cell_type": "markdown",
   "metadata": {},
   "source": [
    "### 5. Ask the user for a number and determine whether the number is prime or not. (For those who have forgotten, a prime number is a number that has no divisors) Use functions."
   ]
  },
  {
   "cell_type": "code",
   "execution_count": 19,
   "metadata": {},
   "outputs": [
    {
     "name": "stdout",
     "output_type": "stream",
     "text": [
      "Enter a number: 19\n",
      "Prime\n"
     ]
    }
   ],
   "source": [
    "n = int( input(\"Enter a number: \") )\n",
    "\n",
    "if n <= 1:\n",
    "    print(\"Not prime\")\n",
    "else:\n",
    "    for i in range(2, n//2):\n",
    "        if n % i == 0:\n",
    "            print(\"Not prime\")\n",
    "            break\n",
    "    else: \n",
    "        print(\"Prime\")\n",
    "        "
   ]
  },
  {
   "cell_type": "code",
   "execution_count": null,
   "metadata": {},
   "outputs": [],
   "source": []
  }
 ],
 "metadata": {
  "kernelspec": {
   "display_name": "Python 3",
   "language": "python",
   "name": "python3"
  },
  "language_info": {
   "codemirror_mode": {
    "name": "ipython",
    "version": 3
   },
   "file_extension": ".py",
   "mimetype": "text/x-python",
   "name": "python",
   "nbconvert_exporter": "python",
   "pygments_lexer": "ipython3",
   "version": "3.7.0"
  }
 },
 "nbformat": 4,
 "nbformat_minor": 2
}
